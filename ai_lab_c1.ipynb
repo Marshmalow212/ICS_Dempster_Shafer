{
 "cells": [
  {
   "cell_type": "code",
   "execution_count": 7,
   "metadata": {},
   "outputs": [
    {
     "name": "stdout",
     "output_type": "stream",
     "text": [
      "Index(['39', ' State-gov', ' 77516', ' Bachelors', ' 13', ' Never-married',\n",
      "       ' Adm-clerical', ' Not-in-family', ' White', ' Male', ' 2174', ' 0',\n",
      "       ' 40', ' United-States', ' <=50K'],\n",
      "      dtype='object')\n"
     ]
    }
   ],
   "source": [
    "import pandas as pds\r\n",
    "\r\n",
    "f = pds.read_csv(\"adult.data\")\r\n",
    "# print(dir(f))\r\n",
    "print(f.columns)"
   ]
  },
  {
   "cell_type": "code",
   "execution_count": 11,
   "metadata": {},
   "outputs": [
    {
     "name": "stdout",
     "output_type": "stream",
     "text": [
      "[[1 2]\n",
      " [3 4]\n",
      " [5 6]\n",
      " [7 8]]\n"
     ]
    }
   ],
   "source": [
    "import numpy as np\r\n",
    "\r\n",
    "arr1 = np.array([[1, 2], [3, 4]])\r\n",
    "\r\n",
    "arr2 = np.array([[5, 6], [7, 8]])\r\n",
    "\r\n",
    "arr = np.concatenate((arr1, arr2), axis=0)\r\n",
    "\r\n",
    "print(arr)"
   ]
  }
 ],
 "metadata": {
  "interpreter": {
   "hash": "ac59ebe37160ed0dfa835113d9b8498d9f09ceb179beaac4002f036b9467c963"
  },
  "kernelspec": {
   "display_name": "Python 3.9.1 64-bit",
   "name": "python3"
  },
  "language_info": {
   "codemirror_mode": {
    "name": "ipython",
    "version": 3
   },
   "file_extension": ".py",
   "mimetype": "text/x-python",
   "name": "python",
   "nbconvert_exporter": "python",
   "pygments_lexer": "ipython3",
   "version": "3.9.1"
  }
 },
 "nbformat": 4,
 "nbformat_minor": 5
}